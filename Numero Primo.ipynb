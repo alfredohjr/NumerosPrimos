{
 "cells": [
  {
   "cell_type": "markdown",
   "metadata": {},
   "source": [
    "# Numero primo em python\n",
    "\n",
    "Verifica se o numero indicado é primo ou não\n",
    "\n",
    "## Referencias\n",
    "\n",
    "* [youtube](https://www.youtube.com/watch?v=qYww45PyTEs), canal do Ferreto Matematico [aqui](https://www.youtube.com/channel/UCW9_n8p_Byz-4k8wV1tnUBg)\n",
    "* [python brasil](https://wiki.python.org.br/DeterminandoPrimos)\n",
    "* [Crivo de Eratóstenes](https://pt.wikipedia.org/wiki/Crivo_de_Erat%C3%B3stenes) descoberto atraves do link da python Brasil"
   ]
  },
  {
   "cell_type": "code",
   "execution_count": 17,
   "metadata": {
    "collapsed": true
   },
   "outputs": [],
   "source": [
    "import matplotlib.pyplot as plt\n",
    "\n",
    "def primos(num,lista):\n",
    "    '''\n",
    "    recebe o numero e uma lista de numeros, retorna aquele numero menos os seus multiplos\n",
    "    '''\n",
    "    \n",
    "    l = [] \n",
    "    \n",
    "    count = 0 #contador de iterações\n",
    "    for i in lista:\n",
    "        \n",
    "        if (i % num != 0) | (i == num):\n",
    "            l.append(i)\n",
    "            count += 1\n",
    "    return l,count #retorna a nova lista e o contador de iterações, para verificar a competencia do codigo\n",
    "\n",
    "def f_main(num):\n",
    "    \n",
    "    from math import sqrt #biblioteca padrão do python para calculo de raiz quadrada\n",
    "    \n",
    "    if num % 2 != 0:\n",
    "    \n",
    "        var2 = sqrt(num) #guarda a raiz quadrada do numero procurado\n",
    "    \n",
    "        var1 = range(1,num+1) #cria uma lista de 1 até o numero procurado\n",
    "\n",
    "        nl,t = primos(2,var1) #pega a lista acima e tira os multiplos de 2\n",
    "    \n",
    "        nl2 = []\n",
    "        for i in nl: #percorre a lista ordenada até o numero igual a raiz quadrada(var2)\n",
    "            if i <= var2:\n",
    "                nl2.append(i)\n",
    "            else:\n",
    "                break #a lista já está ordenada, então continuar em frente é desnecessario\n",
    "    \n",
    "        count = 0 #conta quantas vezes a função primos é chamada\n",
    "\n",
    "        l = []\n",
    "    \n",
    "        count3 = 0 #conta quantas iterações são feitas em todas as iterações da função primos\n",
    "    \n",
    "        for i in range(3,num,2): #cria uma lista que começa em tres e vai até o numero procurado, pulando de 2 em dois\n",
    "    \n",
    "            if (i in nl2) & (i <= var2): #se i está em nl2 e é menor que a raiz quadrada do numero produrado execute...\n",
    "            \n",
    "                if i == nl[-1]: #se o ultimo da lista não é o numero procurado quer dizer que não é primo e o programa sai do loop\n",
    "                    nl,count2 = primos(i,nl) #chama a função primos para a limpeza da lista\n",
    "                    l.append(len(nl)) \n",
    "                    count += 1\n",
    "                    count3 += count2\n",
    "                \n",
    "                else:\n",
    "                    *nl,drop = nl\n",
    "    \n",
    "        *nlt,ultimo = nl\n",
    "    \n",
    "        if ultimo != num:\n",
    "            print('Numero:',num,'Não é primo')\n",
    "        else:\n",
    "            print('Numero:',num,'é primo')\n",
    "    \n",
    "        return nl,l,count,count3\n",
    "    \n",
    "    else:\n",
    "        print('Numero não é primo!')\n",
    "        \n",
    "        nl = 0\n",
    "        l = 0\n",
    "        count = 0\n",
    "        count3 = 0\n",
    "        \n",
    "        return nl,l,count,count3"
   ]
  },
  {
   "cell_type": "code",
   "execution_count": 21,
   "metadata": {
    "collapsed": false
   },
   "outputs": [
    {
     "name": "stdout",
     "output_type": "stream",
     "text": [
      "Numero: 3333333 Não é primo\n",
      "Wall time: 47.8 s\n"
     ]
    }
   ],
   "source": [
    "%%time\n",
    "num = 3333333\n",
    "l,size,count,count3 = f_main(num)"
   ]
  },
  {
   "cell_type": "code",
   "execution_count": 23,
   "metadata": {
    "collapsed": false
   },
   "outputs": [
    {
     "data": {
      "text/plain": [
       "3331509"
      ]
     },
     "execution_count": 23,
     "metadata": {},
     "output_type": "execute_result"
    }
   ],
   "source": [
    "l[-1]"
   ]
  },
  {
   "cell_type": "code",
   "execution_count": null,
   "metadata": {
    "collapsed": true
   },
   "outputs": [],
   "source": []
  }
 ],
 "metadata": {
  "kernelspec": {
   "display_name": "Python 3",
   "language": "python",
   "name": "python3"
  },
  "language_info": {
   "codemirror_mode": {
    "name": "ipython",
    "version": 3
   },
   "file_extension": ".py",
   "mimetype": "text/x-python",
   "name": "python",
   "nbconvert_exporter": "python",
   "pygments_lexer": "ipython3",
   "version": "3.5.2"
  }
 },
 "nbformat": 4,
 "nbformat_minor": 1
}
